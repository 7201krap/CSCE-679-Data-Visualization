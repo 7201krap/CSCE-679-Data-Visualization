{
 "cells": [
  {
   "cell_type": "code",
   "execution_count": 4,
   "metadata": {},
   "outputs": [
    {
     "name": "stderr",
     "output_type": "stream",
     "text": [
      "[nltk_data] Downloading package wordnet to\n",
      "[nltk_data]     /Users/jinhyunpark/nltk_data...\n",
      "[nltk_data]   Package wordnet is already up-to-date!\n"
     ]
    },
    {
     "data": {
      "text/plain": [
       "True"
      ]
     },
     "execution_count": 4,
     "metadata": {},
     "output_type": "execute_result"
    }
   ],
   "source": [
    "from transformers import T5Tokenizer, T5ForConditionalGeneration\n",
    "from transformers import MT5ForConditionalGeneration, AutoTokenizer\n",
    "from nltk.translate.bleu_score import sentence_bleu\n",
    "from nltk.translate import meteor_score\n",
    "from datasets import load_dataset\n",
    "\n",
    "import time\n",
    "import nltk\n",
    "import numpy as np\n",
    "\n",
    "nltk.download('wordnet')"
   ]
  },
  {
   "cell_type": "code",
   "execution_count": 5,
   "metadata": {},
   "outputs": [],
   "source": [
    "# english to X is only possible for T5\n",
    "from datasets import load_dataset, load_from_disk\n",
    "\n",
    "# ds_de_en = load_dataset(\"wmt/wmt14\", \"de-en\")\n",
    "# ds_fr_en = load_dataset(\"wmt/wmt15\", \"fr-en\")\n",
    "# ds_ro_en = load_dataset(\"wmt/wmt16\", \"ro-en\")\n",
    "\n",
    "# ds_de_en.save_to_disk(\"../wmt14_de_en\")\n",
    "# ds_fr_en.save_to_disk(\"../wmt15_fr_en\")\n",
    "# ds_ro_en.save_to_disk(\"../wmt16_ro_en\")\n",
    "\n",
    "ds_de_en = load_from_disk(\"../wmt14_de_en\")\n",
    "ds_fr_en = load_from_disk(\"../wmt15_fr_en\")\n",
    "ds_ro_en = load_from_disk(\"../wmt16_ro_en\")"
   ]
  },
  {
   "cell_type": "code",
   "execution_count": 6,
   "metadata": {},
   "outputs": [
    {
     "name": "stderr",
     "output_type": "stream",
     "text": [
      "You are using the default legacy behaviour of the <class 'transformers.models.t5.tokenization_t5.T5Tokenizer'>. This is expected, and simply means that the `legacy` (previous) behavior will be used so nothing changes for you. If you want to use the new behaviour, set `legacy=False`. This should only be set if you understand what it means, and thoroughly read the reason why this was added as explained in https://github.com/huggingface/transformers/pull/24565\n"
     ]
    },
    {
     "name": "stdout",
     "output_type": "stream",
     "text": [
      "Done with small\n",
      "Done with base\n"
     ]
    }
   ],
   "source": [
    "t5_tokenizer_small = T5Tokenizer.from_pretrained('t5-small')\n",
    "t5_model_small = T5ForConditionalGeneration.from_pretrained('t5-small')\n",
    "print(\"Done with small\")\n",
    "\n",
    "t5_tokenizer_base = T5Tokenizer.from_pretrained('t5-base')\n",
    "t5_model_base = T5ForConditionalGeneration.from_pretrained('t5-base')\n",
    "print(\"Done with base\")"
   ]
  },
  {
   "cell_type": "code",
   "execution_count": 7,
   "metadata": {},
   "outputs": [
    {
     "name": "stderr",
     "output_type": "stream",
     "text": [
      "/Users/jinhyunpark/miniconda3/lib/python3.12/site-packages/transformers/generation/utils.py:1375: UserWarning: Using the model-agnostic default `max_length` (=20) to control the generation length. We recommend setting `max_new_tokens` to control the maximum length of the generation.\n",
      "  warnings.warn(\n"
     ]
    }
   ],
   "source": [
    "input_text_t5 = \"translate English to French: I like to eat pizza\"\n",
    "\n",
    "t5_input_ids_small = t5_tokenizer_small.encode(input_text_t5, return_tensors='pt')\n",
    "t5_outputs_small = t5_model_small.generate(t5_input_ids_small)\n",
    "t5_output_text = t5_tokenizer_small.decode(t5_outputs_small[0], skip_special_tokens=True)\n",
    "print(t5_outputs_small)"
   ]
  },
  {
   "cell_type": "code",
   "execution_count": 7,
   "metadata": {},
   "outputs": [
    {
     "ename": "",
     "evalue": "",
     "output_type": "error",
     "traceback": [
      "\u001b[1;31mThe Kernel crashed while executing code in the current cell or a previous cell. \n",
      "\u001b[1;31mPlease review the code in the cell(s) to identify a possible cause of the failure. \n",
      "\u001b[1;31mClick <a href='https://aka.ms/vscodeJupyterKernelCrash'>here</a> for more info. \n",
      "\u001b[1;31mView Jupyter <a href='command:jupyter.viewOutput'>log</a> for further details."
     ]
    }
   ],
   "source": [
    "input_text_t5 = \"translate English to French: I like to eat pizza\"\n",
    "\n",
    "t5_input_ids_base = t5_tokenizer_base.encode(input_text_t5, return_tensors='pt')\n",
    "t5_outputs_base = t5_model_base.generate(t5_input_ids_base)\n",
    "t5_output_text = t5_tokenizer_base.decode(t5_outputs_base[0], skip_special_tokens=True)\n",
    "print(t5_outputs_base)"
   ]
  },
  {
   "cell_type": "code",
   "execution_count": null,
   "metadata": {},
   "outputs": [],
   "source": []
  }
 ],
 "metadata": {
  "kernelspec": {
   "display_name": "base",
   "language": "python",
   "name": "python3"
  },
  "language_info": {
   "codemirror_mode": {
    "name": "ipython",
    "version": 3
   },
   "file_extension": ".py",
   "mimetype": "text/x-python",
   "name": "python",
   "nbconvert_exporter": "python",
   "pygments_lexer": "ipython3",
   "version": "3.12.2"
  }
 },
 "nbformat": 4,
 "nbformat_minor": 2
}
