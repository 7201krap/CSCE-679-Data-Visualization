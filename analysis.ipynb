{
 "cells": [
  {
   "cell_type": "code",
   "execution_count": 2,
   "metadata": {},
   "outputs": [],
   "source": [
    "import pickle\n",
    "import numpy as np \n",
    "import matplotlib.pyplot as plt"
   ]
  },
  {
   "cell_type": "code",
   "execution_count": 3,
   "metadata": {},
   "outputs": [],
   "source": [
    "with open(\"score_collector_en_de_small.pkl\", \"rb\") as file:\n",
    "    score_collector_en_de_small = pickle.load(file)\n",
    "\n",
    "with open(\"score_collector_en_fr_small.pkl\", \"rb\") as file:\n",
    "    score_collector_en_fr_small = pickle.load(file)\n",
    "\n",
    "with open(\"score_collector_en_ro_small.pkl\", \"rb\") as file:\n",
    "    score_collector_en_ro_small = pickle.load(file)"
   ]
  },
  {
   "cell_type": "code",
   "execution_count": null,
   "metadata": {},
   "outputs": [],
   "source": [
    "with open(\"score_collector_en_de_base.pkl\", \"rb\") as file:\n",
    "    score_collector_en_de_base = pickle.load(file)\n",
    "\n",
    "with open(\"score_collector_en_fr_small.pkl\", \"rb\") as file:\n",
    "    score_collector_en_fr_base = pickle.load(file)\n",
    "\n",
    "with open(\"score_collector_en_ro_small.pkl\", \"rb\") as file:\n",
    "    score_collector_en_ro_base = pickle.load(file)"
   ]
  }
 ],
 "metadata": {
  "kernelspec": {
   "display_name": "base",
   "language": "python",
   "name": "python3"
  },
  "language_info": {
   "codemirror_mode": {
    "name": "ipython",
    "version": 3
   },
   "file_extension": ".py",
   "mimetype": "text/x-python",
   "name": "python",
   "nbconvert_exporter": "python",
   "pygments_lexer": "ipython3",
   "version": "3.12.3"
  }
 },
 "nbformat": 4,
 "nbformat_minor": 2
}
